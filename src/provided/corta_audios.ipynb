{
  "nbformat": 4,
  "nbformat_minor": 0,
  "metadata": {
    "colab": {
      "provenance": []
    },
    "kernelspec": {
      "name": "python3",
      "display_name": "Python 3"
    },
    "language_info": {
      "name": "python"
    }
  },
  "cells": [
    {
      "cell_type": "code",
      "source": [
        "from google.colab import drive\n",
        "drive.mount('/content/drive')"
      ],
      "metadata": {
        "colab": {
          "base_uri": "https://localhost:8080/"
        },
        "id": "rSCLG2l-nwqg",
        "outputId": "08f686a4-0bf2-486f-a7a3-f979fc87b414"
      },
      "execution_count": 24,
      "outputs": [
        {
          "output_type": "stream",
          "name": "stdout",
          "text": [
            "Drive already mounted at /content/drive; to attempt to forcibly remount, call drive.mount(\"/content/drive\", force_remount=True).\n"
          ]
        }
      ]
    },
    {
      "cell_type": "code",
      "source": [
        "!pip install  pydub\n",
        "from pydub import AudioSegment\n",
        "import os"
      ],
      "metadata": {
        "id": "e1s0LJqwY7Kl",
        "outputId": "5df7ac27-8296-42ea-84e4-c4d8dd70a9ce",
        "colab": {
          "base_uri": "https://localhost:8080/"
        }
      },
      "execution_count": 26,
      "outputs": [
        {
          "output_type": "stream",
          "name": "stdout",
          "text": [
            "Requirement already satisfied: pydub in /usr/local/lib/python3.10/dist-packages (0.25.1)\n"
          ]
        }
      ]
    },
    {
      "cell_type": "code",
      "source": [
        "def export_to_dir(class_name,file_name,new_dir,chopped_audio,counter):\n",
        "  for audio_data in chopped_audio:\n",
        "    #file_name=class_name + '_' + str(counter)+'.wav'\n",
        "    export_path=os.path.join(new_dir,file_name)\n",
        "    audio_data.export(export_path, format=\"mp3\")\n",
        "    int(counter)\n",
        "    counter+=1\n",
        "  return counter\n",
        "\n",
        "def chop_audio(audio_file,segment_size,max_size):  #All file are not even so we cut it in same size using max_size and provide segment size using segment\n",
        "  audio_data = AudioSegment.from_mp3(audio_file)\n",
        "  cut_audio_data = audio_data[:max_sec]\n",
        "  chopped_audio=[x for x in cut_audio_data[::segment]]\n",
        "  return chopped_audio\n",
        "\n",
        "\n",
        "max_sec=5 * 1000 # max size of audio we take (for 28 sec)\n",
        "segment=10 * 1000  # segment size(for 2 sec)\n",
        "origin_dir='/content/drive/MyDrive/UTDT/TD6/new_music/'\n",
        "new_dir= '/content/drive/MyDrive/UTDT/TD6/new_music_chopped/'\n",
        "\n",
        "list_files=os.listdir(origin_dir)\n",
        "classes=[]\n",
        "for file in list_files:\n",
        "  name='{}/{}'.format(origin_dir,file)\n",
        "  if os.path.isdir(name):\n",
        "    classes.append(file)\n",
        "classes\n",
        "\n",
        "for x in classes:\n",
        "  counter=0\n",
        "  path=os.path.join(origin_dir, x)\n",
        "  new_path=os.path.join(new_dir, x)\n",
        "  os.makedirs(new_path, exist_ok=True)\n",
        "  os.chdir(path)\n",
        "  list_file=os.listdir(path)\n",
        "  print(x)\n",
        "  for file_name in list_file:\n",
        "    print(file_name)\n",
        "    if file_name == 'rap.testmono.mp3':\n",
        "      chopped_audio=chop_audio(file_name,segment,max_sec)\n",
        "      counter=export_to_dir(x,file_name, new_dir,chopped_audio,counter)"
      ],
      "metadata": {
        "colab": {
          "base_uri": "https://localhost:8080/"
        },
        "id": "1D7PJO4gmpKf",
        "outputId": "009767ec-24e7-4714-d5e4-29d87f2b5e87"
      },
      "execution_count": 32,
      "outputs": [
        {
          "output_type": "stream",
          "name": "stdout",
          "text": [
            "rap\n",
            "rap.complexion.mp3\n",
            "rap.momma.mp3\n",
            "rap.testmono.mp3\n",
            "hola\n"
          ]
        }
      ]
    }
  ]
}